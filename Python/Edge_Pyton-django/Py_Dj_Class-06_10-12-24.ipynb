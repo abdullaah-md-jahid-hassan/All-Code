{
 "cells": [
  {
   "cell_type": "code",
   "execution_count": null,
   "id": "5f049c6a-aff6-4951-ab3c-dda95d929e30",
   "metadata": {},
   "outputs": [],
   "source": [
    "#Function\n"
   ]
  },
  {
   "cell_type": "code",
   "execution_count": 1,
   "id": "aa99740c-fd7d-4d0e-b3fc-385098aa8fec",
   "metadata": {},
   "outputs": [
    {
     "name": "stdout",
     "output_type": "stream",
     "text": [
      "5\n"
     ]
    }
   ],
   "source": [
    "#defination\n",
    "def sum (a,b):\n",
    "    print(a+b)\n",
    "\n",
    "#calling\n",
    "sum(2, 3)"
   ]
  },
  {
   "cell_type": "code",
   "execution_count": null,
   "id": "26086d9c-158b-41b5-82e4-0baa708fc323",
   "metadata": {},
   "outputs": [],
   "source": [
    "#Class Work: Bult a Functio to add 2 number. The number will take form User"
   ]
  },
  {
   "cell_type": "code",
   "execution_count": 2,
   "id": "9b17f820-7f2b-4a0f-ac88-e649f08932e5",
   "metadata": {},
   "outputs": [
    {
     "name": "stdout",
     "output_type": "stream",
     "text": [
      "5 + 3 = 8\n"
     ]
    }
   ],
   "source": [
    "def add(a, b):\n",
    "    return a+b\n",
    "\n",
    "x = int(input(\"Enter the 1st number: \"))\n",
    "y = int(input(\"Enter the 2nd number: \"))\n",
    "print (f\"{x} + {y} = {add(x, y)}\")"
   ]
  },
  {
   "cell_type": "code",
   "execution_count": null,
   "id": "57cf78e5-54b6-4310-9530-df4360307826",
   "metadata": {},
   "outputs": [],
   "source": []
  },
  {
   "cell_type": "code",
   "execution_count": null,
   "id": "5a64abd7-7ddb-4225-861b-dc41622771f4",
   "metadata": {},
   "outputs": [],
   "source": [
    "#Conditional Statement"
   ]
  },
  {
   "cell_type": "code",
   "execution_count": 24,
   "id": "2d104c23-a124-461a-b294-85806d10598f",
   "metadata": {},
   "outputs": [
    {
     "name": "stdout",
     "output_type": "stream",
     "text": [
      "Enter the 1st number:  8\n",
      "Enter the 2nd number:  13\n"
     ]
    },
    {
     "name": "stdout",
     "output_type": "stream",
     "text": [
      "8 Less then 13\n"
     ]
    }
   ],
   "source": [
    "x = int(input(\"Enter the 1st number: \"))\n",
    "y = int(input(\"Enter the 2nd number: \"))\n",
    "\n",
    "if(x>y):\n",
    "    print (f\"{x} Greatter then {y}\")\n",
    "elif(x<y):\n",
    "    print (f\"{x} Less then {y}\")\n",
    "else:\n",
    "    print (f\"{x} Equal to {y}\")\n"
   ]
  },
  {
   "cell_type": "code",
   "execution_count": 26,
   "id": "a826bb21-00bc-4d64-a137-f47d63fa7eab",
   "metadata": {},
   "outputs": [
    {
     "name": "stdout",
     "output_type": "stream",
     "text": [
      "Select operation: +, -, *, /, **, //, %\n"
     ]
    },
    {
     "name": "stdout",
     "output_type": "stream",
     "text": [
      "Enter first number:  6\n",
      "Enter operation:  **\n",
      "Enter second number:  3\n"
     ]
    },
    {
     "name": "stdout",
     "output_type": "stream",
     "text": [
      "Result: 216.0\n"
     ]
    }
   ],
   "source": [
    "def add(a, b):\n",
    "    return a + b\n",
    "\n",
    "def subtract(a, b):\n",
    "    return a - b\n",
    "\n",
    "def multiply(a, b):\n",
    "    return a * b\n",
    "\n",
    "def divide(a, b):\n",
    "    return a / b\n",
    "\n",
    "def exponent(a, b):\n",
    "    return a ** b\n",
    "\n",
    "def floor_divide(a, b):\n",
    "    return a // b\n",
    "\n",
    "def modulus(a, b):\n",
    "    return a % b\n",
    "\n",
    "print(\"Select operation: +, -, *, /, **, //, %\")\n",
    "a = float(input(\"Enter first number: \"))\n",
    "operation = input(\"Enter operation: \")\n",
    "b = float(input(\"Enter second number: \"))\n",
    "\n",
    "if operation == \"+\":\n",
    "    print(\"Result:\", add(a, b))\n",
    "elif operation == \"-\":\n",
    "    print(\"Result:\", subtract(a, b))\n",
    "elif operation == \"*\":\n",
    "    print(\"Result:\", multiply(a, b))\n",
    "elif operation == \"/\":\n",
    "    print(\"Result:\", divide(a, b))\n",
    "elif operation == \"**\":\n",
    "    print(\"Result:\", exponent(a, b))\n",
    "elif operation == \"//\":\n",
    "    print(\"Result:\", floor_divide(a, b))\n",
    "elif operation == \"%\":\n",
    "    print(\"Result:\", modulus(a, b))\n",
    "else:\n",
    "    print(\"Invalid operation!\")\n"
   ]
  },
  {
   "cell_type": "code",
   "execution_count": 12,
   "id": "72582697-f7d1-4081-9378-ee262383c19a",
   "metadata": {},
   "outputs": [
    {
     "name": "stdout",
     "output_type": "stream",
     "text": [
      "Enter 1st number:  50\n",
      "Enter 2nd number:  35\n"
     ]
    },
    {
     "name": "stdout",
     "output_type": "stream",
     "text": [
      "50\n",
      "47\n",
      "44\n",
      "41\n",
      "38\n"
     ]
    }
   ],
   "source": [
    "#Print number In the given range\n",
    "a = int(input(\"Enter 1st number: \"))\n",
    "b = int(input(\"Enter 2nd number: \"))\n",
    "\n",
    "for x in range(a, b, -3): \n",
    "    print(x)"
   ]
  },
  {
   "cell_type": "code",
   "execution_count": 14,
   "id": "389e266b-5fd7-400b-a37d-8c8b058348e2",
   "metadata": {},
   "outputs": [
    {
     "name": "stdout",
     "output_type": "stream",
     "text": [
      "Enter 1st number:  0\n",
      "Enter 2nd number:  0\n"
     ]
    }
   ],
   "source": [
    "#Print even number In the given range\n",
    "a = int(input(\"Enter 1st number: \"))\n",
    "b = int(input(\"Enter 2nd number: \"))\n",
    "\n",
    "for x in range(a, b):\n",
    "    if (x%2==0): \n",
    "        print(x)"
   ]
  },
  {
   "cell_type": "code",
   "execution_count": 16,
   "id": "e9b94234-abd6-4b9a-9f23-eb1502c1e0cb",
   "metadata": {},
   "outputs": [
    {
     "name": "stdout",
     "output_type": "stream",
     "text": [
      "Enter 1st number:  0\n",
      "Enter 2nd number:  0\n"
     ]
    }
   ],
   "source": [
    "#Print even number In the given range\n",
    "a = int(input(\"Enter 1st number: \"))\n",
    "b = int(input(\"Enter 2nd number: \"))\n",
    "\n",
    "for x in range(a, b):\n",
    "    if (x%2!=0): \n",
    "        print(x)"
   ]
  },
  {
   "cell_type": "code",
   "execution_count": 22,
   "id": "87b4f23c-9c83-4301-aaa5-3ea1bd7c69dc",
   "metadata": {},
   "outputs": [
    {
     "name": "stdout",
     "output_type": "stream",
     "text": [
      "Enter 1st number:  5\n",
      "Enter 2nd number:  15\n",
      "Enter Your Choice(even/odd/all):  all\n"
     ]
    },
    {
     "name": "stdout",
     "output_type": "stream",
     "text": [
      "5\n",
      "6\n",
      "7\n",
      "8\n",
      "9\n",
      "10\n",
      "11\n",
      "12\n",
      "13\n",
      "14\n"
     ]
    }
   ],
   "source": [
    "#Print even/odd/all number In the given range\n",
    "def even(a, b):\n",
    "    for x in range(a, b):\n",
    "        if (x%2==0): \n",
    "            print(x)\n",
    "\n",
    "def odd(a, b):\n",
    "    for x in range(a, b):\n",
    "        if (x%2!=0): \n",
    "            print(x)\n",
    "\n",
    "def all(a, b):\n",
    "    for x in range(a, b):\n",
    "        print(x)\n",
    "        \n",
    "a = int(input(\"Enter 1st number: \"))\n",
    "b = int(input(\"Enter 2nd number: \"))\n",
    "choice = input(\"Enter Your Choice(even/odd/all): \")\n",
    "\n",
    "if(choice=='even'):\n",
    "    even(a,b)\n",
    "elif(choice=='odd'):\n",
    "    odd(a,b)\n",
    "elif(choice=='all'):\n",
    "    all(a,b)\n",
    "else:\n",
    "    print(\"Invalid input\")"
   ]
  },
  {
   "cell_type": "code",
   "execution_count": null,
   "id": "d88129f8-1c48-4bdd-be3e-cd93b8826e60",
   "metadata": {},
   "outputs": [],
   "source": []
  }
 ],
 "metadata": {
  "kernelspec": {
   "display_name": "Python 3",
   "language": "python",
   "name": "python3"
  },
  "language_info": {
   "codemirror_mode": {
    "name": "ipython",
    "version": 3
   },
   "file_extension": ".py",
   "mimetype": "text/x-python",
   "name": "python",
   "nbconvert_exporter": "python",
   "pygments_lexer": "ipython3",
   "version": "3.13.0"
  }
 },
 "nbformat": 4,
 "nbformat_minor": 5
}

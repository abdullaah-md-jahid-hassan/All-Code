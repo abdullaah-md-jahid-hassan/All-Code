{
 "cells": [
  {
   "cell_type": "code",
   "execution_count": 2,
   "id": "7372ce54-675d-4891-8090-80b4a07fdf9f",
   "metadata": {},
   "outputs": [
    {
     "name": "stdout",
     "output_type": "stream",
     "text": [
      "['a', 'b', 'c', 'd', 'e', 'f', 'g'] \t<-------- Original List\n",
      "['a', 'b', 'R', 'g'] \t\t\t<-------- Index 2 to 5 replaced by 'R'\n",
      "['a', 'b', 'g'] \t\t\t<-------- Final result (Index 2 to 5 removed form the original list)\n"
     ]
    }
   ],
   "source": [
    "#Assignment -------> Remove multiple value form list\n",
    "#1st replace by a value in  the selective index then Remove by index(pop)\n",
    "list1=['a', 'b', 'c', 'd', 'e', 'f', 'g']\n",
    "print(list1, \"\\t<-------- Original List\")\n",
    "list1[2:6]='R'\n",
    "print(list1, \"\\t\\t\\t<-------- Index 2 to 5 replaced by 'R'\")\n",
    "list1.pop(2)\n",
    "print(list1, \"\\t\\t\\t<-------- Final result (Index 2 to 5 removed form the original list)\")"
   ]
  },
  {
   "cell_type": "code",
   "execution_count": null,
   "id": "49a3dc0a-8a7c-427c-b98b-c026e866f4be",
   "metadata": {},
   "outputs": [],
   "source": []
  }
 ],
 "metadata": {
  "kernelspec": {
   "display_name": "Python 3 (ipykernel)",
   "language": "python",
   "name": "python3"
  },
  "language_info": {
   "codemirror_mode": {
    "name": "ipython",
    "version": 3
   },
   "file_extension": ".py",
   "mimetype": "text/x-python",
   "name": "python",
   "nbconvert_exporter": "python",
   "pygments_lexer": "ipython3",
   "version": "3.12.7"
  }
 },
 "nbformat": 4,
 "nbformat_minor": 5
}

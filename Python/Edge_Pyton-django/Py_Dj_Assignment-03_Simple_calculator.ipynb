{
 "cells": [
  {
   "cell_type": "code",
   "execution_count": 1,
   "id": "d972aad9-1c53-44e0-860c-c846ebce1823",
   "metadata": {},
   "outputs": [
    {
     "name": "stdout",
     "output_type": "stream",
     "text": [
      "Select operation: +, -, *, /, **, //, %\n"
     ]
    },
    {
     "name": "stdin",
     "output_type": "stream",
     "text": [
      "Enter first number:  45\n",
      "Enter operation:  *\n",
      "Enter second number:  6\n"
     ]
    },
    {
     "name": "stdout",
     "output_type": "stream",
     "text": [
      "Result: 270.0\n"
     ]
    }
   ],
   "source": [
    "def add(a, b):\n",
    "    return a + b\n",
    "\n",
    "def subtract(a, b):\n",
    "    return a - b\n",
    "\n",
    "def multiply(a, b):\n",
    "    return a * b\n",
    "\n",
    "def divide(a, b):\n",
    "    return a / b\n",
    "\n",
    "def exponent(a, b):\n",
    "    return a ** b\n",
    "\n",
    "def floor_divide(a, b):\n",
    "    return a // b\n",
    "\n",
    "def modulus(a, b):\n",
    "    return a % b\n",
    "\n",
    "print(\"Select operation: +, -, *, /, **, //, %\")\n",
    "a = float(input(\"Enter first number: \"))\n",
    "operation = input(\"Enter operation: \")\n",
    "b = float(input(\"Enter second number: \"))\n",
    "\n",
    "if operation == \"+\":\n",
    "    print(\"Result:\", add(a, b))\n",
    "elif operation == \"-\":\n",
    "    print(\"Result:\", subtract(a, b))\n",
    "elif operation == \"*\":\n",
    "    print(\"Result:\", multiply(a, b))\n",
    "elif operation == \"/\":\n",
    "    print(\"Result:\", divide(a, b))\n",
    "elif operation == \"**\":\n",
    "    print(\"Result:\", exponent(a, b))\n",
    "elif operation == \"//\":\n",
    "    print(\"Result:\", floor_divide(a, b))\n",
    "elif operation == \"%\":\n",
    "    print(\"Result:\", modulus(a, b))\n",
    "else:\n",
    "    print(\"Invalid operation!\")\n"
   ]
  },
  {
   "cell_type": "code",
   "execution_count": null,
   "id": "f0535fc6-c258-4e91-8b6e-bac3ffc3b89e",
   "metadata": {},
   "outputs": [],
   "source": []
  }
 ],
 "metadata": {
  "kernelspec": {
   "display_name": "Python 3 (ipykernel)",
   "language": "python",
   "name": "python3"
  },
  "language_info": {
   "codemirror_mode": {
    "name": "ipython",
    "version": 3
   },
   "file_extension": ".py",
   "mimetype": "text/x-python",
   "name": "python",
   "nbconvert_exporter": "python",
   "pygments_lexer": "ipython3",
   "version": "3.12.7"
  }
 },
 "nbformat": 4,
 "nbformat_minor": 5
}

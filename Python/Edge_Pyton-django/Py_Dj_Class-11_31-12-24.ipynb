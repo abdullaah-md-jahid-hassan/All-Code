{
 "cells": [
  {
   "cell_type": "code",
   "execution_count": null,
   "id": "c4d2657c-a16d-4830-b609-fbf8f1545ace",
   "metadata": {},
   "outputs": [],
   "source": [
    "# Libary - Pandas\n"
   ]
  },
  {
   "cell_type": "code",
   "execution_count": 25,
   "id": "76ee8fe0-6515-42b1-be82-b9889b584db2",
   "metadata": {},
   "outputs": [],
   "source": [
    "import pandas as pa\n",
    "import numpy as np"
   ]
  },
  {
   "cell_type": "code",
   "execution_count": 27,
   "id": "34748307-396f-4a27-a400-aece8de4e0b0",
   "metadata": {},
   "outputs": [
    {
     "name": "stdout",
     "output_type": "stream",
     "text": [
      "Name      Hassan\n",
      "Age           35\n",
      "Gender      Male\n",
      "Rating       4.5\n",
      "dtype: object\n"
     ]
    }
   ],
   "source": [
    "data = ['Hassan', '35', 'Male', '4.5']\n",
    "header = ['Name', 'Age', 'Gender', 'Rating']\n",
    "series = pa.Series(data, index=header)\n",
    "print(series)"
   ]
  },
  {
   "cell_type": "code",
   "execution_count": 29,
   "id": "32e9ad2c-d1cc-4ce4-97d3-597a581f5164",
   "metadata": {},
   "outputs": [
    {
     "name": "stdout",
     "output_type": "stream",
     "text": [
      "       Name  Age Gender  Reatting\n",
      "0  Abdullah   24   Male       3.7\n",
      "1  Muhammad   25   Male       4.4\n",
      "2     Jahid   23   Male       3.9\n",
      "3    Hassan   26   Male       4.7\n"
     ]
    }
   ],
   "source": [
    "data2={\n",
    "    'Name': ['Abdullah', 'Muhammad', 'Jahid', 'Hassan'],\n",
    "    'Age': [24, 25, 23, 26],\n",
    "    'Gender': ['Male', 'Male', 'Male', 'Male'],\n",
    "    'Reatting': [3.7, 4.4, 3.9, 4.7]\n",
    "}\n",
    "data_field = pa.DataFrame(data2)\n",
    "print(data_field)"
   ]
  },
  {
   "cell_type": "code",
   "execution_count": 33,
   "id": "0180bb86-3f31-4ca4-bd1d-580669b74939",
   "metadata": {
    "scrolled": true
   },
   "outputs": [
    {
     "name": "stdout",
     "output_type": "stream",
     "text": [
      "Series\n",
      "0      0.766694\n",
      "1      0.237657\n",
      "2      0.943767\n",
      "3      0.484220\n",
      "4      0.766932\n",
      "         ...   \n",
      "995    0.970916\n",
      "996    0.017453\n",
      "997    0.284891\n",
      "998    0.007734\n",
      "999    0.952587\n",
      "Length: 1000, dtype: float64\n",
      "Frist 5 Elements\n",
      "0    0.766694\n",
      "1    0.237657\n",
      "2    0.943767\n",
      "3    0.484220\n",
      "4    0.766932\n",
      "dtype: float64\n",
      "Last 3 value:\n",
      "997    0.284891\n",
      "998    0.007734\n",
      "999    0.952587\n",
      "dtype: float64\n",
      "Descriptive statistical analisis:\n",
      "count    1000.000000\n",
      "mean        0.488051\n",
      "std         0.301399\n",
      "min         0.000919\n",
      "25%         0.223442\n",
      "50%         0.483683\n",
      "75%         0.763241\n",
      "max         0.999560\n",
      "dtype: float64\n"
     ]
    }
   ],
   "source": [
    "s = pa.Series(np.random.rand(1000))\n",
    "print('Series')\n",
    "print (s)\n",
    "print('Frist 5 Elements')\n",
    "print(s.head()) # Show the 1st n value. By defalt n=5\n",
    "print('Last 3 value:')\n",
    "print(s.tail(3)) # Show the Last n value. By defalt n=5\n",
    "print('Descriptive statistical analisis:')\n",
    "print(s.describe()) # Give Descrriptive paramitter (count, mean, std, min, max, 25%.....)"
   ]
  },
  {
   "cell_type": "code",
   "execution_count": 45,
   "id": "bfef8863-9c7a-45fd-bfd8-31c22b8b0436",
   "metadata": {},
   "outputs": [
    {
     "name": "stdout",
     "output_type": "stream",
     "text": [
      "               Name  Age                        Email        Mobile\n",
      "0          John Doe   28         john.doe@example.com  123-456-7890\n",
      "1        Jane Smith   34       jane.smith@example.com  234-567-8901\n",
      "2     Alice Johnson   26    alice.johnson@example.com  345-678-9012\n",
      "3         Bob Brown   40        bob.brown@example.com  456-789-0123\n",
      "4     Charlie Davis   22    charlie.davis@example.com  567-890-1234\n",
      "5      David Wilson   30     david.wilson@example.com  678-901-2345\n",
      "6        Emma Moore   38       emma.moore@example.com  789-012-3456\n",
      "7      Frank Miller   29     frank.miller@example.com  890-123-4567\n",
      "8         Grace Lee   33        grace.lee@example.com  901-234-5678\n",
      "9       Henry White   25      henry.white@example.com  012-345-6789\n",
      "10       Ivy Harris   31       ivy.harris@example.com  123-456-7891\n",
      "11       Jack Clark   27       jack.clark@example.com  234-567-8902\n",
      "12    Kara Martinez   32    kara.martinez@example.com  345-678-9013\n",
      "13      Louis Allen   24      louis.allen@example.com  456-789-0124\n",
      "14        Mona King   36        mona.king@example.com  567-890-1235\n",
      "15     Nathan Scott   28     nathan.scott@example.com  678-901-2346\n",
      "16     Olivia Adams   37     olivia.adams@example.com  789-012-3457\n",
      "17       Paul Baker   41       paul.baker@example.com  890-123-4568\n",
      "18     Quinn Walker   29     quinn.walker@example.com  901-234-5679\n",
      "19     Rachel Green   35     rachel.green@example.com  012-345-6790\n",
      "20     Samuel Perez   39     samuel.perez@example.com  123-456-7892\n",
      "21      Tina Carter   33      tina.carter@example.com  234-567-8903\n",
      "22  Ursula Mitchell   26  ursula.mitchell@example.com  345-678-9014\n",
      "23   Victor Roberts   28   victor.roberts@example.com  456-789-0125\n",
      "24      Wendy Evans   27      wendy.evans@example.com  567-890-1236\n",
      "25     Xander Scott   30     xander.scott@example.com  678-901-2347\n",
      "26      Yara Nelson   25      yara.nelson@example.com  789-012-3458\n",
      "27      Zane Cooper   32      zane.cooper@example.com  890-123-4569\n",
      "28      Alice Young   31      alice.young@example.com  901-234-5680\n",
      "29       Ben Harris   24       ben.harris@example.com  012-345-6791\n",
      "30      Chloe Allen   36      chloe.allen@example.com  123-456-7893\n",
      "31     Daniel Clark   38     daniel.clark@example.com  234-567-8904\n",
      "32        Eva Lopez   29        eva.lopez@example.com  345-678-9015\n",
      "33   Freddie Wright   28   freddie.wright@example.com  456-789-0126\n",
      "34       Grace Hall   30       grace.hall@example.com  567-890-1237\n",
      "35    Hannah Walker   35    hannah.walker@example.com  678-901-2348\n",
      "36   Isaac Gonzalez   25   isaac.gonzalez@example.com  789-012-3459\n",
      "37   Jackie Collins   33   jackie.collins@example.com  890-123-4570\n",
      "38    Kyle Mitchell   32    kyle.mitchell@example.com  901-234-5681\n",
      "39    Lily Robinson   27    lily.robinson@example.com  012-345-6792\n",
      "40    Matthew Lewis   26    matthew.lewis@example.com  123-456-7894\n",
      "41      Nina Carter   29      nina.carter@example.com  234-567-8905\n",
      "42      Oscar Green   34      oscar.green@example.com  345-678-9016\n",
      "43      Pamela King   37      pamela.king@example.com  456-789-0127\n",
      "44     Quincy Adams   33     quincy.adams@example.com  567-890-1238\n",
      "45     Riley Nelson   28     riley.nelson@example.com  678-901-2349\n",
      "46    Sophie Brooks   30    sophie.brooks@example.com  789-012-3460\n",
      "47       Tommy Reed   40       tommy.reed@example.com  890-123-4571\n",
      "48    Ursula Foster   29    ursula.foster@example.com  901-234-5682\n",
      "49       Vera Green   27       vera.green@example.com  012-345-6793\n",
      "50    Willie Hughes   25    willie.hughes@example.com  123-456-7895\n",
      "51        Xena Ford   32        xena.ford@example.com  234-567-8906\n",
      "52     Yasmin Price   31     yasmin.price@example.com  345-678-9017\n",
      "53      Zoe Russell   28      zoe.russell@example.com  456-789-0128\n",
      "           Name        Mobile\n",
      "1    Jane Smith  234-567-8901\n",
      "3     Bob Brown  456-789-0123\n",
      "5  David Wilson  678-901-2345\n"
     ]
    }
   ],
   "source": [
    "data = pa.read_csv('Py_Dj_Class-11_31-12-24_csv-file.csv')\n",
    "print(data)\n",
    "print(data.loc[[1, 3, 5], ['Name', 'Mobile']])"
   ]
  },
  {
   "cell_type": "code",
   "execution_count": null,
   "id": "f445480a-c8d2-42d9-a78a-c6f98afe54ac",
   "metadata": {},
   "outputs": [],
   "source": []
  }
 ],
 "metadata": {
  "kernelspec": {
   "display_name": "Python 3 (ipykernel)",
   "language": "python",
   "name": "python3"
  },
  "language_info": {
   "codemirror_mode": {
    "name": "ipython",
    "version": 3
   },
   "file_extension": ".py",
   "mimetype": "text/x-python",
   "name": "python",
   "nbconvert_exporter": "python",
   "pygments_lexer": "ipython3",
   "version": "3.12.7"
  }
 },
 "nbformat": 4,
 "nbformat_minor": 5
}

{
 "cells": [
  {
   "cell_type": "code",
   "execution_count": 1,
   "id": "df4747f1-4b92-4a23-a44d-44fb6e5707b6",
   "metadata": {},
   "outputs": [],
   "source": [
    "#List ---------> Comtiniue form privious"
   ]
  },
  {
   "cell_type": "code",
   "execution_count": 2,
   "id": "fe37264c-14cd-41e5-a91d-fae62ff66230",
   "metadata": {},
   "outputs": [],
   "source": [
    "#slising replace"
   ]
  },
  {
   "cell_type": "code",
   "execution_count": 3,
   "id": "731fb9d6-4433-477c-a76a-2a9757623d0a",
   "metadata": {},
   "outputs": [
    {
     "name": "stdout",
     "output_type": "stream",
     "text": [
      "['a', 'b', 'c', 'd', 'e', 'f', 'g']\n",
      "['a', 'b', 'x', 'y', 'e', 'f', 'g']\n"
     ]
    }
   ],
   "source": [
    "list1=['a', 'b', 'c', 'd', 'e', 'f', 'g']\n",
    "list2=['x', 'y']\n",
    "print(list1)\n",
    "list1[2:4]=list2\n",
    "print(list1)"
   ]
  },
  {
   "cell_type": "code",
   "execution_count": 1,
   "id": "042d5291-21c7-4ed9-9c07-4248a08badff",
   "metadata": {},
   "outputs": [
    {
     "name": "stdout",
     "output_type": "stream",
     "text": [
      "['a', 'b', 'c', 'd', 'e', 'f', 'g']\n",
      "['a', 'b', 'c', 'replaced', 'e', 'f', 'g']\n"
     ]
    }
   ],
   "source": [
    "list1=['a', 'b', 'c', 'd', 'e', 'f', 'g']\n",
    "print(list1)\n",
    "list1[3]='replaced'\n",
    "print(list1)"
   ]
  },
  {
   "cell_type": "code",
   "execution_count": 4,
   "id": "60329d2c-e3f8-4aaa-95ac-2aeb4d875ac6",
   "metadata": {},
   "outputs": [
    {
     "name": "stdout",
     "output_type": "stream",
     "text": [
      "['a', 'b', 'c', 'd', 'e', 'f', 'g']\n",
      "['a', 'b', 'w', 'x', 'y', 'z', 'e', 'f', 'g']\n"
     ]
    }
   ],
   "source": [
    "list1=['a', 'b', 'c', 'd', 'e', 'f', 'g']\n",
    "list2=['w', 'x', 'y','z']\n",
    "print(list1)\n",
    "list1[2:4]=list2\n",
    "print(list1)"
   ]
  },
  {
   "cell_type": "code",
   "execution_count": null,
   "id": "83e5eeca-50d5-4131-a005-e416fb83e345",
   "metadata": {},
   "outputs": [],
   "source": []
  },
  {
   "cell_type": "code",
   "execution_count": 5,
   "id": "b30ceeb4-0605-4410-96d8-0d47e6571444",
   "metadata": {},
   "outputs": [],
   "source": [
    "#Append"
   ]
  },
  {
   "cell_type": "code",
   "execution_count": 6,
   "id": "fcdb64a9-10ce-4e87-9ec4-0a866412dac1",
   "metadata": {},
   "outputs": [
    {
     "name": "stdout",
     "output_type": "stream",
     "text": [
      "['a', 'b', 'c', 'd', 'x']\n"
     ]
    }
   ],
   "source": [
    "list1=['a', 'b', 'c', 'd']\n",
    "list1.append('x')\n",
    "print(list1)"
   ]
  },
  {
   "cell_type": "code",
   "execution_count": null,
   "id": "5456c77f-a798-4442-b4fa-ba0c4e574d44",
   "metadata": {},
   "outputs": [],
   "source": []
  },
  {
   "cell_type": "code",
   "execution_count": 7,
   "id": "2c7fd6ac-6574-49e0-a5ec-0bae519aa8c6",
   "metadata": {},
   "outputs": [],
   "source": [
    "#Insert"
   ]
  },
  {
   "cell_type": "code",
   "execution_count": 8,
   "id": "ae60a0d1-0735-4cb5-a373-8210508ecf51",
   "metadata": {},
   "outputs": [
    {
     "name": "stdout",
     "output_type": "stream",
     "text": [
      "['a', 'b', 'c', 'd']\n",
      "['a', 'b', 'x', 'c', 'd']\n"
     ]
    }
   ],
   "source": [
    "list1=['a', 'b', 'c', 'd']\n",
    "print(list1)\n",
    "list1.insert(2, 'x')\n",
    "print(list1)"
   ]
  },
  {
   "cell_type": "code",
   "execution_count": null,
   "id": "02c7635f-9c6f-41b2-9015-841510576bb8",
   "metadata": {},
   "outputs": [],
   "source": []
  },
  {
   "cell_type": "code",
   "execution_count": 9,
   "id": "9a8d2abe-34cb-43e6-ba1b-3e65d227a4eb",
   "metadata": {},
   "outputs": [],
   "source": [
    "#Extend"
   ]
  },
  {
   "cell_type": "code",
   "execution_count": 10,
   "id": "7d16c2fb-c3c8-462c-b291-d6d8d4bf413f",
   "metadata": {},
   "outputs": [
    {
     "name": "stdout",
     "output_type": "stream",
     "text": [
      "[10, 20, 30, 40]\n",
      "[10, 20, 30, 40, 50, 60, 70]\n"
     ]
    }
   ],
   "source": [
    "list1=[10, 20, 30, 40]\n",
    "list2=[50, 60, 70]\n",
    "print(list1)\n",
    "list1.extend(list2)\n",
    "print(list1)"
   ]
  },
  {
   "cell_type": "code",
   "execution_count": null,
   "id": "2a8959f9-15b7-4c94-8c0a-7e79a054a42c",
   "metadata": {},
   "outputs": [],
   "source": []
  },
  {
   "cell_type": "code",
   "execution_count": 11,
   "id": "4cb6e77b-b14b-485c-bab9-23022d77846e",
   "metadata": {},
   "outputs": [],
   "source": [
    "#Remove------> remove by value"
   ]
  },
  {
   "cell_type": "code",
   "execution_count": 12,
   "id": "73e9f3fc-8d90-430b-a288-d3f97e740fa4",
   "metadata": {},
   "outputs": [
    {
     "name": "stdout",
     "output_type": "stream",
     "text": [
      "[10, 20, 30, 40, 20, 60]\n",
      "[10, 30, 40, 20, 60]\n"
     ]
    }
   ],
   "source": [
    "list1=[10, 20, 30, 40,20,60]\n",
    "print(list1)\n",
    "list1.remove(20)\n",
    "print(list1)"
   ]
  },
  {
   "cell_type": "code",
   "execution_count": null,
   "id": "cb8b3a6d-12fc-48c7-8cf7-4efb7f1e4af9",
   "metadata": {},
   "outputs": [],
   "source": []
  },
  {
   "cell_type": "code",
   "execution_count": 13,
   "id": "e6d109e7-db7c-4e0d-a391-0de3da3735e9",
   "metadata": {},
   "outputs": [],
   "source": [
    "#Pop----->remove by index"
   ]
  },
  {
   "cell_type": "code",
   "execution_count": 14,
   "id": "ea0a5a22-71c1-4a0d-8bfd-a81f99ca8425",
   "metadata": {},
   "outputs": [
    {
     "name": "stdout",
     "output_type": "stream",
     "text": [
      "[10, 20, 30, 40, 20, 60]\n",
      "[10, 20, 30, 20, 60]\n"
     ]
    }
   ],
   "source": [
    "list1=[10, 20, 30, 40,20,60]\n",
    "print(list1)\n",
    "list1.pop(3)\n",
    "print(list1)"
   ]
  },
  {
   "cell_type": "code",
   "execution_count": null,
   "id": "6f8f377b-acca-4f29-92fb-6f87788e5107",
   "metadata": {},
   "outputs": [],
   "source": []
  },
  {
   "cell_type": "code",
   "execution_count": 15,
   "id": "b36dabef-dc2b-4ab0-ab1e-d883317f7f9e",
   "metadata": {},
   "outputs": [],
   "source": [
    "#Clear-------> Clear entiyar list"
   ]
  },
  {
   "cell_type": "code",
   "execution_count": 16,
   "id": "311bfd04-858c-4fe6-ab01-0847407e6fd8",
   "metadata": {},
   "outputs": [
    {
     "name": "stdout",
     "output_type": "stream",
     "text": [
      "[10, 20, 30, 40, 20, 60]\n",
      "[]\n"
     ]
    }
   ],
   "source": [
    "list1=[10, 20, 30, 40,20,60]\n",
    "print(list1)\n",
    "list1.clear()\n",
    "print(list1)"
   ]
  },
  {
   "cell_type": "code",
   "execution_count": null,
   "id": "35c81be0-9e38-4793-89e9-af9ce59683d3",
   "metadata": {},
   "outputs": [],
   "source": []
  },
  {
   "cell_type": "code",
   "execution_count": 17,
   "id": "4edcc719-7f6a-4350-b4ba-fe5278e6b5b5",
   "metadata": {},
   "outputs": [],
   "source": [
    "#Assignment -------> Remove multiple value form list\n",
    "#1st replace by a value in  the selective index then Remove by index(pop)"
   ]
  },
  {
   "cell_type": "code",
   "execution_count": 79,
   "id": "92ac1d95-b0d8-4afe-ae3a-48055b085b05",
   "metadata": {},
   "outputs": [
    {
     "name": "stdout",
     "output_type": "stream",
     "text": [
      "['a', 'b', 'c', 'd', 'e', 'f', 'g'] \t<-------- Original List\n",
      "['a', 'b', 'R', 'g'] \t\t\t<-------- Index 2 to 5 replaced by 'R'\n",
      "['a', 'b', 'g'] \t\t\t<-------- Final result (Index 2 to 5 removed form the original list)\n"
     ]
    }
   ],
   "source": [
    "list1=['a', 'b', 'c', 'd', 'e', 'f', 'g']\n",
    "print(list1, \"\\t<-------- Original List\")\n",
    "list1[2:6]='R'\n",
    "print(list1, \"\\t\\t\\t<-------- Index 2 to 5 replaced by 'R'\")\n",
    "list1.pop(2)\n",
    "print(list1, \"\\t\\t\\t<-------- Final result (Index 2 to 5 removed form the original list)\")"
   ]
  },
  {
   "cell_type": "code",
   "execution_count": null,
   "id": "01d2254a-08fc-4fff-9dd4-8df2c5e90b29",
   "metadata": {},
   "outputs": [],
   "source": []
  },
  {
   "cell_type": "code",
   "execution_count": 3,
   "id": "8c2245d5-fba4-4fda-9e73-7b9733644e68",
   "metadata": {},
   "outputs": [],
   "source": [
    "#Tuple ------> Start\n",
    "#Not possible to update (replace, remove, update,)\n"
   ]
  },
  {
   "cell_type": "code",
   "execution_count": 20,
   "id": "5ddc9933-74f0-49fa-85b1-abd96790a4a2",
   "metadata": {},
   "outputs": [
    {
     "name": "stdout",
     "output_type": "stream",
     "text": [
      "(10, 20, 30, 40, 20, 60)\n"
     ]
    }
   ],
   "source": [
    "list1=(10, 20, 30, 40,20,60)\n",
    "print(list1)"
   ]
  },
  {
   "cell_type": "code",
   "execution_count": null,
   "id": "93b61496-eae0-40e8-84fb-f3b826dc55f0",
   "metadata": {},
   "outputs": [],
   "source": []
  },
  {
   "cell_type": "code",
   "execution_count": 21,
   "id": "c41355f5-f398-487a-85a1-6c7fee5b6022",
   "metadata": {},
   "outputs": [],
   "source": [
    "#try to replace"
   ]
  },
  {
   "cell_type": "code",
   "execution_count": 22,
   "id": "c8495f5b-3b7b-4501-b53d-71fc3d26b85b",
   "metadata": {},
   "outputs": [
    {
     "data": {
      "text/plain": [
       "\"\\nlist1=('a', 'b', 'c', 'd', 'e', 'f', 'g')\\nlist2=('x', 'y')\\nprint(list1)\\nlist1[2:4]=list2 #---------> faild\\nprint(list1)\\n\""
      ]
     },
     "execution_count": 22,
     "metadata": {},
     "output_type": "execute_result"
    }
   ],
   "source": [
    "\"\"\"\n",
    "list1=('a', 'b', 'c', 'd', 'e', 'f', 'g')\n",
    "list2=('x', 'y')\n",
    "print(list1)\n",
    "list1[2:4]=list2 #---------> faild\n",
    "print(list1)\n",
    "\"\"\""
   ]
  },
  {
   "cell_type": "code",
   "execution_count": null,
   "id": "96a700a0-30a5-479a-a9d9-ebbf7db9872b",
   "metadata": {},
   "outputs": [],
   "source": []
  },
  {
   "cell_type": "code",
   "execution_count": 23,
   "id": "b1fe82d9-fdf7-4534-a8fe-f9e63d637e34",
   "metadata": {},
   "outputs": [],
   "source": [
    "#Dictonary ------------------> Start\n",
    "#Key-Value variable\n"
   ]
  },
  {
   "cell_type": "code",
   "execution_count": 24,
   "id": "bf4ff3dc-4ed7-45f3-a8d1-71013c1ca52a",
   "metadata": {},
   "outputs": [
    {
     "name": "stdout",
     "output_type": "stream",
     "text": [
      "Hassan\n",
      "{'name': 'Hassan', 'age': 24, 'school': 'IBN Tymia'}\n"
     ]
    }
   ],
   "source": [
    "dicto = {'name':'Hassan', 'age':24, 'school':'IBN Tymia'}\n",
    "print(dicto['name'])\n",
    "print(dicto)"
   ]
  },
  {
   "cell_type": "code",
   "execution_count": null,
   "id": "9b0c2e90-4f3d-4aac-a0c0-3828ae99ece4",
   "metadata": {},
   "outputs": [],
   "source": []
  },
  {
   "cell_type": "code",
   "execution_count": null,
   "id": "706538c0-7e98-4287-8c25-29144ac74d20",
   "metadata": {},
   "outputs": [],
   "source": [
    "#Loop ------------> Start\n"
   ]
  },
  {
   "cell_type": "code",
   "execution_count": null,
   "id": "1bdfc520-4ade-43a6-a370-5ef0e2e8d679",
   "metadata": {},
   "outputs": [],
   "source": [
    "#For loop"
   ]
  },
  {
   "cell_type": "code",
   "execution_count": 83,
   "id": "238c3e31-757c-4a9c-8296-42354d31c6c0",
   "metadata": {},
   "outputs": [
    {
     "name": "stdout",
     "output_type": "stream",
     "text": [
      "10\n",
      "20\n",
      "30\n",
      "40\n",
      "20\n",
      "60\n"
     ]
    }
   ],
   "source": [
    "list1=[10, 20, 30, 40,20,60]\n",
    "for num in list1:\n",
    "    print(num)"
   ]
  },
  {
   "cell_type": "code",
   "execution_count": null,
   "id": "3d324364-463a-48a5-ac08-fce589eeec37",
   "metadata": {},
   "outputs": [],
   "source": []
  }
 ],
 "metadata": {
  "kernelspec": {
   "display_name": "Python 3 (ipykernel)",
   "language": "python",
   "name": "python3"
  },
  "language_info": {
   "codemirror_mode": {
    "name": "ipython",
    "version": 3
   },
   "file_extension": ".py",
   "mimetype": "text/x-python",
   "name": "python",
   "nbconvert_exporter": "python",
   "pygments_lexer": "ipython3",
   "version": "3.12.7"
  }
 },
 "nbformat": 4,
 "nbformat_minor": 5
}
